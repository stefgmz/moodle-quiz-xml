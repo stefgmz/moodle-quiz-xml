{
 "cells": [
  {
   "cell_type": "code",
   "execution_count": 1,
   "metadata": {},
   "outputs": [],
   "source": [
    "import numpy as np \n",
    "from statistics import median, mean\n",
    "import matplotlib.pyplot as plt \n",
    "\n",
    "import io\n",
    "import base64\n",
    "\n",
    "from qseries import QSeries"
   ]
  },
  {
   "cell_type": "code",
   "execution_count": 2,
   "metadata": {},
   "outputs": [],
   "source": [
    "def generate_boxplot(data):\n",
    "    \"\"\"Creates a boxplotof the given data.\n",
    "    \n",
    "    The boxplot is embedded into a matplot.figure.Figure of size (3, 6)\n",
    "    with the following properties.\n",
    "    The x-axis of the boxplot is empty, and the y-axis ranges from\n",
    "    the min of data points to the max.\n",
    "    \n",
    "    Args:\n",
    "        data: A list of numbers.\n",
    "    \n",
    "    Returns:\n",
    "        fig: A matplot.figure.Figure including the plot.\n",
    "    \"\"\"\n",
    "    fig = plt.figure(1, figsize=(3, 6))\n",
    "\n",
    "    ax = fig.add_subplot(111)\n",
    "\n",
    "    bp = ax.boxplot(data, widths = (0.8), medianprops=dict(color='black'))\n",
    "    ax.set_yticks(np.arange(min(data), max(data)+1, 1.0))\n",
    "    ax.set_xticks([])\n",
    "    ax.grid(True, color='lightgray')\n",
    "    \n",
    "    return fig"
   ]
  },
  {
   "cell_type": "code",
   "execution_count": null,
   "metadata": {},
   "outputs": [],
   "source": []
  },
  {
   "cell_type": "code",
   "execution_count": 3,
   "metadata": {},
   "outputs": [],
   "source": [
    "data_to_plot = [9, 12, 12, 12, 15, 12, 18, 21, 21, 21, 24]"
   ]
  },
  {
   "cell_type": "code",
   "execution_count": 4,
   "metadata": {},
   "outputs": [
    {
     "data": {
      "text/plain": [
       "<Figure size 216x432 with 0 Axes>"
      ]
     },
     "metadata": {},
     "output_type": "display_data"
    }
   ],
   "source": [
    "s = io.BytesIO()\n",
    "    \n",
    "fig = generate_boxplot(data_to_plot)\n",
    "fig.savefig(s, format='png', bbox_inches='tight')\n",
    "fig.clear()\n",
    "s = base64.b64encode(s.getvalue()).decode('utf-8').replace('\\n', '')"
   ]
  },
  {
   "cell_type": "code",
   "execution_count": 5,
   "metadata": {},
   "outputs": [
    {
     "name": "stdout",
     "output_type": "stream",
     "text": [
      "<quiz>\n",
      "<!-- question: 0  -->\n",
      "  <question type=\"category\">\n",
      "    <category>\n",
      "      <text>$course$/top/</text>\n",
      "    </category>\n",
      "    <info format=\"html\">\n",
      "      <text/>\n",
      "    </info>\n",
      "    <idnumber/>\n",
      "  </question>\n",
      "\n",
      "<!-- question: 1038723  -->\n",
      "  <question type=\"numerical\">\n",
      "    <name>\n",
      "      <text>title</text>\n",
      "    </name>\n",
      "    <questiontext format=\"html\">\n",
      "      <text><![CDATA[<p dir=\"ltr\" style=\"text-align: left;\"><p>Median?</p><img src=\"@@PLUGINFILE@@/testimage.png\" role=\"presentation\" class=\"img-responsive atto_image_button_text-bottom\" width=\"279\" height=\"486\"/></p>]]></text>\n",
      "    <file name=\"testimage.png\" path=\"/\" encoding=\"base64\">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</file></questiontext>\n",
      "    <generalfeedback format=\"html\">\n",
      "      <text/>\n",
      "    </generalfeedback>\n",
      "    <defaultgrade>2.0000000</defaultgrade>\n",
      "    <penalty>0</penalty>\n",
      "    <hidden>0</hidden>\n",
      "    <idnumber/>\n",
      "    <answer fraction=\"100\" format=\"moodle_auto_format\">\n",
      "      <text>15.0</text>\n",
      "      <feedback format=\"html\">\n",
      "        <text/>\n",
      "      </feedback>\n",
      "      <tolerance>0.01</tolerance>\n",
      "    </answer>\n",
      "    <unitgradingtype>0</unitgradingtype>\n",
      "    <unitpenalty>0.1000000</unitpenalty>\n",
      "    <showunits>3</showunits>\n",
      "    <unitsleft>0</unitsleft>\n",
      "  </question>\n",
      "\n",
      "</quiz>\n"
     ]
    }
   ],
   "source": [
    "q_series = QSeries(category='Test')\n",
    "q_series.add_num_question('title', 'Median?', answer=np.quantile(data_to_plot, q=.5), image=s, image_name='testimage', tolerance=0.01)\n",
    "q_series.dump()"
   ]
  },
  {
   "cell_type": "code",
   "execution_count": null,
   "metadata": {},
   "outputs": [],
   "source": []
  }
 ],
 "metadata": {
  "kernelspec": {
   "display_name": "Python 3",
   "language": "python",
   "name": "python3"
  },
  "language_info": {
   "codemirror_mode": {
    "name": "ipython",
    "version": 3
   },
   "file_extension": ".py",
   "mimetype": "text/x-python",
   "name": "python",
   "nbconvert_exporter": "python",
   "pygments_lexer": "ipython3",
   "version": "3.6.12"
  }
 },
 "nbformat": 4,
 "nbformat_minor": 4
}
