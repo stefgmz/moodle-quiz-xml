{
 "cells": [
  {
   "cell_type": "code",
   "execution_count": null,
   "metadata": {},
   "outputs": [],
   "source": [
    "import numpy as np \n",
    "from statistics import median, mean\n",
    "import matplotlib.pyplot as plt \n",
    "\n",
    "import io\n",
    "import base64\n",
    "\n",
    "from qseries import QSeries"
   ]
  },
  {
   "cell_type": "code",
   "execution_count": 12,
   "metadata": {},
   "outputs": [],
   "source": [
    "def generate_boxplot(data):\n",
    "    \"\"\"Creates a boxplotof the given data.\n",
    "    \n",
    "    The boxplot is embedded into a matplot.figure.Figure of size (3, 6)\n",
    "    with the following properties.\n",
    "    The x-axis of the boxplot is empty, and the y-axis ranges from\n",
    "    the min of data points to the max.\n",
    "    \n",
    "    Args:\n",
    "        data: A list of numbers.\n",
    "    \n",
    "    Returns:\n",
    "        fig: A matplot.figure.Figure including the plot.\n",
    "    \"\"\"\n",
    "    fig = plt.figure(1, figsize=(3, 6))\n",
    "\n",
    "    ax = fig.add_subplot(111)\n",
    "\n",
    "    bp = ax.boxplot(data, widths = (0.8), medianprops=dict(color='black'))\n",
    "    ax.set_yticks(np.arange(min(data), max(data)+1, 1.0))\n",
    "    ax.set_xticks([])\n",
    "    ax.grid(True, color='lightgray')\n",
    "    \n",
    "    return fig"
   ]
  },
  {
   "cell_type": "code",
   "execution_count": null,
   "metadata": {},
   "outputs": [],
   "source": []
  },
  {
   "cell_type": "code",
   "execution_count": 13,
   "metadata": {},
   "outputs": [],
   "source": [
    "data_to_plot = [9, 12, 12, 12, 15, 12, 18, 21, 21, 21, 24]"
   ]
  },
  {
   "cell_type": "code",
   "execution_count": null,
   "metadata": {},
   "outputs": [],
   "source": [
    "s = io.BytesIO()\n",
    "    \n",
    "fig = generate_boxplot(data_to_plot)\n",
    "fig.savefig(s, format='png', bbox_inches=\"tight\")\n",
    "fig.clear()\n",
    "s = base64.b64encode(s.getvalue()).decode(\"utf-8\").replace(\"\\n\", \"\")"
   ]
  },
  {
   "cell_type": "code",
   "execution_count": null,
   "metadata": {},
   "outputs": [],
   "source": [
    "q_series = QSeries('Test')\n",
    "q_series.add_num_question('title', 'Median?', answer=np.quantile(data_to_plot, q=.5), image=s, image_name='testimage', tolerance=0.01)\n",
    "q_series.dump()"
   ]
  },
  {
   "cell_type": "code",
   "execution_count": null,
   "metadata": {},
   "outputs": [],
   "source": []
  }
 ],
 "metadata": {
  "kernelspec": {
   "display_name": "Python 3",
   "language": "python",
   "name": "python3"
  },
  "language_info": {
   "codemirror_mode": {
    "name": "ipython",
    "version": 3
   },
   "file_extension": ".py",
   "mimetype": "text/x-python",
   "name": "python",
   "nbconvert_exporter": "python",
   "pygments_lexer": "ipython3",
   "version": "3.6.10"
  }
 },
 "nbformat": 4,
 "nbformat_minor": 4
}
